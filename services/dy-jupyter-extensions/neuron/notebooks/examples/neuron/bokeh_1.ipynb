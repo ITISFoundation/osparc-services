{
 "cells": [
  {
   "cell_type": "code",
   "execution_count": null,
   "metadata": {
    "scrolled": false
   },
   "outputs": [],
   "source": [
    "from neuron import h\n",
    "\n",
    "# using bokeh for graphics\n",
    "from bokeh.io import output_notebook\n",
    "import bokeh.plotting as plt\n",
    "output_notebook()\n",
    "\n",
    "# standard run library (gives h.continuerun)\n",
    "h.load_file('stdrun.hoc')\n",
    "\n",
    "# morphology\n",
    "soma = h.Section(name='soma')\n",
    "soma.L = soma.diam = 20\n",
    "\n",
    "# biophysics\n",
    "soma.insert('hh')\n",
    "\n",
    "# current injection\n",
    "ic = h.IClamp(soma(0.5))\n",
    "ic.delay = 1\n",
    "ic.dur = 0.1\n",
    "ic.amp = 1\n",
    "\n",
    "# recording\n",
    "t = h.Vector()\n",
    "v = h.Vector()\n",
    "t.record(h._ref_t)\n",
    "v.record(soma(0.5)._ref_v)\n",
    "\n",
    "# initialize and run\n",
    "h.finitialize(-65)\n",
    "h.continuerun(10)\n",
    "\n",
    "# now do the plot\n",
    "f = plt.figure()\n",
    "f.line(t, v, line_width=5)\n",
    "plt.show(f)\n"
   ]
  },
  {
   "cell_type": "code",
   "execution_count": null,
   "metadata": {},
   "outputs": [],
   "source": []
  }
 ],
 "metadata": {
  "kernelspec": {
   "display_name": "Python 3",
   "language": "python",
   "name": "python3"
  },
  "language_info": {
   "codemirror_mode": {
    "name": "ipython",
    "version": 3
   },
   "file_extension": ".py",
   "mimetype": "text/x-python",
   "name": "python",
   "nbconvert_exporter": "python",
   "pygments_lexer": "ipython3",
   "version": "3.7.3"
  }
 },
 "nbformat": 4,
 "nbformat_minor": 2
}
