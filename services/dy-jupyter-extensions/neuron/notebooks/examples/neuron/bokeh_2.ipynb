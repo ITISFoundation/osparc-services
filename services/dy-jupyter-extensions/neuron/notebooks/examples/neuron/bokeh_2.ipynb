{
 "cells": [
  {
   "cell_type": "code",
   "execution_count": null,
   "metadata": {},
   "outputs": [],
   "source": [
    "from neuron import h\n",
    "\n",
    "# using bokeh for graphics\n",
    "from bokeh.io import output_notebook\n",
    "import bokeh.plotting as plt\n",
    "output_notebook()\n",
    "\n",
    "# standard run library (gives h.continuerun)\n",
    "h.load_file('stdrun.hoc')\n",
    "\n",
    "# morphology\n",
    "axon = h.Section(name='axon')\n",
    "axon.L = 10000\n",
    "axon.diam = 1\n",
    "axon.nseg = 101\n",
    "\n",
    "# biophysics\n",
    "axon.insert('hh')\n",
    "\n",
    "# current injection\n",
    "ic = h.IClamp(axon(0))\n",
    "ic.delay = 1\n",
    "ic.dur = 0.1\n",
    "ic.amp = 1\n",
    "\n",
    "# setup a plot\n",
    "\n",
    "# setup rangevarplot\n",
    "rvp = h.RangeVarPlot('v')\n",
    "rvp.begin(axon(0))\n",
    "rvp.end(axon(1))\n",
    "x = h.Vector()\n",
    "y = h.Vector()\n",
    "ys = []\n",
    "\n",
    "def save_rvp_data():\n",
    "    rvp.to_vector(y, x)\n",
    "    ys.append(list(y))\n",
    "\n",
    "# initialize and run, plotting twice\n",
    "h.finitialize(-65)\n",
    "h.continuerun(5)\n",
    "save_rvp_data()\n",
    "h.continuerun(10)\n",
    "save_rvp_data()\n",
    "\n",
    "# show the plot\n",
    "f = plt.figure(x_axis_label='position', y_axis_label='v')\n",
    "f.multi_line([list(x)] * len(ys), ys, color=['black', 'red'], line_width=2)\n",
    "plt.show(f)"
   ]
  }
 ],
 "metadata": {
  "kernelspec": {
   "display_name": "Python 3",
   "language": "python",
   "name": "python3"
  },
  "language_info": {
   "codemirror_mode": {
    "name": "ipython",
    "version": 3
   },
   "file_extension": ".py",
   "mimetype": "text/x-python",
   "name": "python",
   "nbconvert_exporter": "python",
   "pygments_lexer": "ipython3",
   "version": "3.7.3"
  }
 },
 "nbformat": 4,
 "nbformat_minor": 2
}
