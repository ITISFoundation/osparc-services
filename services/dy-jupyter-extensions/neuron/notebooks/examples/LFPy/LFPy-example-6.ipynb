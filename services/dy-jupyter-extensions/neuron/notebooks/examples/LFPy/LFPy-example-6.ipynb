{
 "cells": [
  {
   "cell_type": "code",
   "execution_count": null,
   "metadata": {},
   "outputs": [],
   "source": [
    "%matplotlib inline"
   ]
  },
  {
   "cell_type": "markdown",
   "metadata": {},
   "source": [
    "# Example plot for LFPy: Mainen and Sejnowski (1996) spike waveforms\n",
    "This is an example scripts using LFPy with an active cell model adapted from\n",
    "Mainen and Sejnowski, Nature 1996, for the original files, see\n",
    "http://senselab.med.yale.edu/modeldb/ShowModel.asp?model=2488\n",
    "\n",
    "This scripts is set up to use the model, where the active conductances are set\n",
    "in the file \"active_declarations_example2.hoc\", and uses the mechanisms from\n",
    "the .mod-files provided here. For this example to work, run \"nrnivmodl\" in\n",
    "this folder to compile these mechanisms\n",
    "(i.e. /$PATHTONEURON/nrn/x86_64/bin/nrnivmodl).\n",
    "\n",
    "A single excitatory synapse drive the neuron into producing a single action-\n",
    "potential, and the local field potential are calculated on a dense 2D-grid\n",
    "on around the soma.\n",
    "\n",
    "\n",
    "Copyright (C) 2017 Computational Neuroscience Group, NMBU.\n",
    "\n",
    "This program is free software: you can redistribute it and/or modify\n",
    "it under the terms of the GNU General Public License as published by\n",
    "the Free Software Foundation, either version 3 of the License, or\n",
    "(at your option) any later version.\n",
    "\n",
    "This program is distributed in the hope that it will be useful,\n",
    "but WITHOUT ANY WARRANTY; without even the implied warranty of\n",
    "MERCHANTABILITY or FITNESS FOR A PARTICULAR PURPOSE.  See the\n",
    "GNU General Public License for more details."
   ]
  },
  {
   "cell_type": "code",
   "execution_count": null,
   "metadata": {},
   "outputs": [],
   "source": [
    "import os\n",
    "from os.path import join\n",
    "import sys\n",
    "if sys.version < '3':\n",
    "    from urllib2 import urlopen\n",
    "else:    \n",
    "    from urllib.request import urlopen\n",
    "import zipfile\n",
    "import ssl\n",
    "from warnings import warn\n",
    "import LFPy\n",
    "import neuron\n",
    "import numpy as np\n",
    "import matplotlib.pyplot as plt"
   ]
  },
  {
   "cell_type": "markdown",
   "metadata": {},
   "source": [
    "## Fetch Mainen&Sejnowski 1996 model files:"
   ]
  },
  {
   "cell_type": "code",
   "execution_count": null,
   "metadata": {},
   "outputs": [],
   "source": [
    "if not os.path.isfile(join('cells', 'cells', 'j4a.hoc')):\n",
    "    # get the model files:\n",
    "    u = urlopen('http://senselab.med.yale.edu/ModelDB/eavBinDown.asp?o=2488&a=23&mime=application/zip',\n",
    "                context=ssl._create_unverified_context())\n",
    "    localFile = open('patdemo.zip', 'w')\n",
    "    localFile.write(u.read())\n",
    "    localFile.close()\n",
    "    #unzip:\n",
    "    myzip = zipfile.ZipFile('patdemo.zip', 'r')\n",
    "    myzip.extractall('.')\n",
    "    myzip.close()\n",
    "\n",
    "# compile mod files every time, because of incompatibility with Hay2011 files:\n",
    "if \"win32\" in sys.platform:\n",
    "    pth = \"cells\"\n",
    "    warn(\"no autompile of NMODL (.mod) files on Windows. \" \n",
    "         + \"Run mknrndll from NEURON bash in the folder cells and rerun example script\")\n",
    "    if not pth in neuron.nrn_dll_loaded:\n",
    "        neuron.h.nrn_load_dll(pth+\"/nrnmech.dll\")\n",
    "    neuron.nrn_dll_loaded.append(pth)\n",
    "else:\n",
    "    os.system('''\n",
    "              cd cells\n",
    "              nrnivmodl\n",
    "              ''')\n",
    "    neuron.load_mechanisms('cells')"
   ]
  },
  {
   "cell_type": "markdown",
   "metadata": {},
   "source": [
    "## Simulation parameters:\n",
    "Define parameters, using dictionaries. It is possible to set a few more parameters for each class or functions, but we chose to show only the most important ones here."
   ]
  },
  {
   "cell_type": "code",
   "execution_count": null,
   "metadata": {},
   "outputs": [],
   "source": [
    "# define cell parameters used as input to cell-class\n",
    "cellParameters = {\n",
    "    'morphology' : 'morphologies/L5_Mainen96_wAxon_LFPy.hoc',\n",
    "    'cm' : 1.0,                 # membrane capacitance\n",
    "    'Ra' : 150,                 # axial resistance\n",
    "    'v_init' : -65,             # initial crossmembrane potential\n",
    "    'passive' : True,           # turn on passive mechanism\n",
    "    'passive_parameters' : {'g_pas' : 1./30000, 'e_pas' : -65}, # passive params\n",
    "    'nsegs_method' : 'lambda_f',# method for setting number of segments,\n",
    "    'lambda_f' : 500,           # segments are isopotential at this frequency\n",
    "    'dt' : 2**-5,               # dt of LFP and NEURON simulation.\n",
    "    'tstart' : -10,             # start time, recorders start at t=0\n",
    "    'tstop' : 10,               # stop time of simulation\n",
    "    'custom_code'  : ['active_declarations_example2.hoc'], # will run this file\n",
    "}\n",
    "\n",
    "# Synaptic parameters, corresponding to a NetCon synapse built into NEURON\n",
    "synapseParameters = {\n",
    "    'idx' : 0,               # insert synapse on index \"0\", the soma\n",
    "    'e' : 0.,                # reversal potential of synapse\n",
    "    'syntype' : 'Exp2Syn',   # conductance based double-exponential synapse\n",
    "    'tau1' : 1.0,            # Time constant, rise\n",
    "    'tau2' : 1.0,            # Time constant, decay\n",
    "    'weight' : 0.03,         # Synaptic weight\n",
    "    'record_current' : True, # Will enable synapse current recording\n",
    "}\n",
    "\n",
    "# Generate the grid in xz-plane over which we calculate local field potentials\n",
    "X, Z = np.mgrid[-5:6, -5:6] * 10\n",
    "Y = np.zeros(X.shape)\n",
    "\n",
    "# define parameters for extracellular recording electrode, using optional method\n",
    "electrodeParameters = {\n",
    "    'sigma' : 0.3,              # extracellular conductivity\n",
    "    'x' : X.flatten(),        # x,y,z-coordinates of contact points\n",
    "    'y' : Y.flatten(),\n",
    "    'z' : Z.flatten(),\n",
    "    'method' : 'soma_as_point',  #treat soma segment as sphere source\n",
    "}"
   ]
  },
  {
   "cell_type": "markdown",
   "metadata": {},
   "source": [
    "## Main simulation procedure, setting up extracellular electrode, cell, synapse:"
   ]
  },
  {
   "cell_type": "code",
   "execution_count": null,
   "metadata": {},
   "outputs": [],
   "source": [
    "# create extracellular electrode object\n",
    "electrode = LFPy.RecExtElectrode(**electrodeParameters)\n",
    "\n",
    "# Initialize cell instance, using the LFPy.Cell class\n",
    "cell = LFPy.Cell(**cellParameters)\n",
    "# set the position of midpoint in soma to Origo (not needed, this is the default)\n",
    "cell.set_pos(x = 0, y = 0, z = 0)\n",
    "# rotate the morphology 90 degrees around z-axis\n",
    "cell.set_rotation(z = np.pi/2)\n",
    "\n",
    "# attach synapse with parameters and set spike time\n",
    "synapse = LFPy.Synapse(cell, **synapseParameters)\n",
    "synapse.set_spike_times(np.array([1]))\n",
    "\n",
    "# perform NEURON simulation, results saved as attributes in the cell instance\n",
    "cell.simulate(electrode = electrode)"
   ]
  },
  {
   "cell_type": "markdown",
   "metadata": {},
   "source": [
    "## Plotting of simulation results:"
   ]
  },
  {
   "cell_type": "code",
   "execution_count": null,
   "metadata": {},
   "outputs": [],
   "source": [
    "from example_suppl import plot_ex2\n",
    "fig = plot_ex2(cell, electrode)\n",
    "# Optional: saving the figure\n",
    "# fig.savefig('LFPy-example-6.pdf', dpi=300)"
   ]
  }
 ],
 "metadata": {
  "kernelspec": {
   "display_name": "Python 3",
   "language": "python",
   "name": "python3"
  },
  "language_info": {
   "codemirror_mode": {
    "name": "ipython",
    "version": 3
   },
   "file_extension": ".py",
   "mimetype": "text/x-python",
   "name": "python",
   "nbconvert_exporter": "python",
   "pygments_lexer": "ipython3",
   "version": "3.7.1"
  }
 },
 "nbformat": 4,
 "nbformat_minor": 2
}
