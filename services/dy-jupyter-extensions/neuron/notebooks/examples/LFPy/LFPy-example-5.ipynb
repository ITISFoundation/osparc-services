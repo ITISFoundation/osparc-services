{
 "cells": [
  {
   "cell_type": "code",
   "execution_count": null,
   "metadata": {},
   "outputs": [],
   "source": [
    "%matplotlib inline"
   ]
  },
  {
   "cell_type": "markdown",
   "metadata": {},
   "source": [
    "# Example plot for LFPy: Single-synapse contribution to the LFP\n",
    "\n",
    "Copyright (C) 2017 Computational Neuroscience Group, NMBU.\n",
    "\n",
    "This program is free software: you can redistribute it and/or modify\n",
    "it under the terms of the GNU General Public License as published by\n",
    "the Free Software Foundation, either version 3 of the License, or\n",
    "(at your option) any later version.\n",
    "\n",
    "This program is distributed in the hope that it will be useful,\n",
    "but WITHOUT ANY WARRANTY; without even the implied warranty of\n",
    "MERCHANTABILITY or FITNESS FOR A PARTICULAR PURPOSE.  See the\n",
    "GNU General Public License for more details."
   ]
  },
  {
   "cell_type": "code",
   "execution_count": null,
   "metadata": {},
   "outputs": [],
   "source": [
    "import LFPy\n",
    "import numpy as np\n",
    "import matplotlib.pyplot as plt"
   ]
  },
  {
   "cell_type": "markdown",
   "metadata": {},
   "source": [
    "## Main script, set parameters and create cell, synapse and electrode objects:"
   ]
  },
  {
   "cell_type": "code",
   "execution_count": null,
   "metadata": {},
   "outputs": [],
   "source": [
    "# Define cell parameters\n",
    "cell_parameters = {          # various cell parameters,\n",
    "    'morphology' : 'morphologies/L5_Mainen96_LFPy.hoc', # Mainen&Sejnowski, 1996\n",
    "    'cm' : 1.0,         # membrane capacitance\n",
    "    'Ra' : 150.,        # axial resistance\n",
    "    'v_init' : -65.,    # initial crossmembrane potential\n",
    "    'passive' : True,   # turn on passive mechanism for all sections\n",
    "    'passive_parameters' : {'g_pas' : 1./30000, 'e_pas' : -65}, # passive params\n",
    "    'nsegs_method' : 'lambda_f', # lambda_f method\n",
    "    'lambda_f' : 100.,  # lambda_f critical frequency\n",
    "    'dt' : 2.**-3,      # simulation time step size\n",
    "    'tstart' : 0.,      # start time of simulation, recorders start at t=0\n",
    "    'tstop' : 100.,     # stop simulation at 200 ms. These can be overridden\n",
    "                        # by setting these arguments in cell.simulation()\n",
    "}\n",
    "\n",
    "# Create cell\n",
    "cell = LFPy.Cell(**cell_parameters)\n",
    "\n",
    "# Define synapse parameters\n",
    "synapse_parameters = {\n",
    "    'idx' : cell.get_closest_idx(x=0., y=0., z=900.),\n",
    "    'e' : 0.,                   # reversal potential\n",
    "    'syntype' : 'ExpSyn',       # synapse type\n",
    "    'tau' : 10.,                # syn. time constant\n",
    "    'weight' : .001,            # syn. weight\n",
    "    'record_current' : True,\n",
    "}\n",
    "\n",
    "# Create synapse and set time of synaptic input\n",
    "synapse = LFPy.Synapse(cell, **synapse_parameters)\n",
    "synapse.set_spike_times(np.array([20.]))\n",
    "\n",
    "\n",
    "# Create a grid of measurement locations, in (mum)\n",
    "X, Z = np.mgrid[-500:501:20, -400:1201:40]\n",
    "Y = np.zeros(X.shape)\n",
    "\n",
    "# Define electrode parameters\n",
    "electrode_parameters = {\n",
    "    'sigma' : 0.3,      # extracellular conductivity\n",
    "    'x' : X.flatten(),  # electrode requires 1d vector of positions\n",
    "    'y' : Y.flatten(),\n",
    "    'z' : Z.flatten()\n",
    "}\n",
    "\n",
    "# Create electrode object\n",
    "electrode = LFPy.RecExtElectrode(**electrode_parameters)\n",
    "\n",
    "# Run simulation, electrode object argument in cell.simulate\n",
    "cell.simulate(electrode=electrode)"
   ]
  },
  {
   "cell_type": "markdown",
   "metadata": {},
   "source": [
    "## Plot simulation output:"
   ]
  },
  {
   "cell_type": "code",
   "execution_count": null,
   "metadata": {},
   "outputs": [],
   "source": [
    "from example_suppl import plot_ex1\n",
    "fig = plot_ex1(cell, electrode, X, Y, Z)\n",
    "# Optionally save figure (uncomment the line below)\n",
    "# fig.savefig('LFPy-example-5.pdf', dpi=300)"
   ]
  }
 ],
 "metadata": {
  "kernelspec": {
   "display_name": "Python 3",
   "language": "python",
   "name": "python3"
  },
  "language_info": {
   "codemirror_mode": {
    "name": "ipython",
    "version": 3
   },
   "file_extension": ".py",
   "mimetype": "text/x-python",
   "name": "python",
   "nbconvert_exporter": "python",
   "pygments_lexer": "ipython3",
   "version": "3.7.1"
  }
 },
 "nbformat": 4,
 "nbformat_minor": 2
}
